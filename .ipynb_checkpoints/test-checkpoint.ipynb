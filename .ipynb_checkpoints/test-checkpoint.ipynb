{
 "cells": [
  {
   "cell_type": "code",
   "execution_count": 1,
   "metadata": {},
   "outputs": [],
   "source": [
    "# Imports\n",
    "import pandas as pd\n",
    "\n",
    "import re\n",
    "\n",
    "from urllib.error import HTTPError\n",
    "from urllib.error import URLError\n",
    "from urllib.request import urlopen, Request\n",
    "from bs4 import BeautifulSoup"
   ]
  },
  {
   "cell_type": "code",
   "execution_count": 10,
   "metadata": {},
   "outputs": [],
   "source": [
    "# National Review\n",
    "def nr(nr_Sections, nr_ArticleURLs):\n",
    "    for SectionURL in nr_Sections:\n",
    "        try:\n",
    "            html = urlopen(SectionURL)\n",
    "            soup = BeautifulSoup(html, 'html.parser')\n",
    "            for link in soup.find_all('a', href=re.compile('^(https://www.nationalreview).*([a-z]+-[a-z]+-[a-z]+/)$')):\n",
    "                if 'href' in link.attrs:\n",
    "                    if link.attrs['href'] not in nr_ArticleURLs:\n",
    "                        # print(link.attrs['href'])\n",
    "                        nr_ArticleURLs.append(link.attrs['href'])\n",
    "        except HTTPError as e:\n",
    "            print(e)\n",
    "        except URLError as e:\n",
    "            print(e)"
   ]
  },
  {
   "cell_type": "code",
   "execution_count": 11,
   "metadata": {},
   "outputs": [],
   "source": [
    "import sections\n",
    "nr_ArticleURLs = []"
   ]
  },
  {
   "cell_type": "code",
   "execution_count": 12,
   "metadata": {},
   "outputs": [
    {
     "name": "stdout",
     "output_type": "stream",
     "text": [
      "https://www.nationalreview.com/podcasts/mad-dogs-englishmen/\n",
      "https://www.nationalreview.com/podcasts/give-me-liberty-the-making-of-american-exceptionalism/\n",
      "https://www.nationalreview.com/podcasts/the-mccarthy-report/\n",
      "https://www.nationalreview.com/podcasts/the-great-books/\n",
      "https://www.nationalreview.com/podcasts/national-reviews-radio-free-california-podcast/\n",
      "https://www.nationalreview.com/frequently-asked-questions/\n",
      "https://www.nationalreview.com/terms-of-service/\n",
      "https://www.nationalreview.com/2019/12/usmca-trade-deal-key-improvements-nafta-step-toward-broader-trade-liberalization/\n",
      "https://www.nationalreview.com/2019/12/movie-review-a-hidden-life-monument-christian-apologetics/\n",
      "https://www.nationalreview.com/2019/12/ukraine-journal-turbulent-existence/\n",
      "https://www.nationalreview.com/news/manchin-claims-hes-torn-on-impeachment-vote/\n",
      "https://www.nationalreview.com/news/horowitz-faults-fbi-chain-of-command-in-opening-senate-statement-for-lacking-effective-oversight-in-crossfire-hurricane-investigation/\n",
      "https://www.nationalreview.com/magazine/2019/12/22/zora-neale-hurstons-individualism/\n",
      "https://www.nationalreview.com/author/john-j-miller/\n",
      "https://www.nationalreview.com/2019/12/trump-defenders-push-ukraine-conspiracy-theories/\n",
      "https://www.nationalreview.com/magazine/2019/12/22/a-republican-foreign-policy/\n",
      "https://www.nationalreview.com/2019/12/movie-review-uncut-gems-adam-sandler-gritty-city-grifters-loan-sharks/\n",
      "https://www.nationalreview.com/2019/12/national-review-institute-fund-appeal/\n",
      "https://www.nationalreview.com/author/peter-j-travers/\n",
      "https://www.nationalreview.com/corner/social-conservatism-in-britain/\n",
      "https://www.nationalreview.com/news/freshman-dem-who-called-for-impeachment-hearings-undecided-on-final-vote/\n",
      "https://www.nationalreview.com/news/us-regulators-allowed-boeing-737-max-to-keep-flying-after-first-crash-despite-faa-analysis-predicting-more/\n",
      "https://www.nationalreview.com/corner/our-federal-student-aid-system-worse-than-we-thought/\n",
      "https://www.nationalreview.com/news/ukraine-official-denies-he-ever-discussed-ukraine-military-aid-with-gordon-sondland-in-warsaw-meeting/\n",
      "https://www.nationalreview.com/news/biden-suggests-he-would-only-serve-one-term-report/\n",
      "https://www.nationalreview.com/news/federal-judge-blocks-trump-plan-to-divert-3-6-billion-in-military-funds-to-border-wall/\n",
      "https://www.nationalreview.com/news/jersey-city-mayor-says-security-footage-shows-shooters-targeted-jewish-grocery-store/\n",
      "https://www.nationalreview.com/news/buttigieg-overtakes-biden-in-new-new-hampshire-poll/\n",
      "https://www.nationalreview.com/corner/on-ukraine-a-mailbag/\n",
      "https://www.nationalreview.com/2019/12/dont-shut-jails-they-exist-for-a-reason/\n",
      "https://www.nationalreview.com/author/michael-brendan-dougherty/\n",
      "https://www.nationalreview.com/author/kathryn-jean-lopez/\n",
      "https://www.nationalreview.com/author/kevin-d-williamson/\n",
      "https://www.nationalreview.com/podcasts/the-great-books/episode-111-antigone-by-sophocles/\n",
      "https://www.nationalreview.com/podcasts/the-bookmonger/episode-276-oppo-by-tom-rosenstiel/\n",
      "https://www.nationalreview.com/podcasts/political-beats/episode-69-jane-coaston-jimi-hendrix/\n"
     ]
    }
   ],
   "source": [
    "nr(sections.nr, nr_ArticleURLs)"
   ]
  },
  {
   "cell_type": "code",
   "execution_count": null,
   "metadata": {},
   "outputs": [],
   "source": []
  }
 ],
 "metadata": {
  "kernelspec": {
   "display_name": "Python 3",
   "language": "python",
   "name": "python3"
  },
  "language_info": {
   "codemirror_mode": {
    "name": "ipython",
    "version": 3
   },
   "file_extension": ".py",
   "mimetype": "text/x-python",
   "name": "python",
   "nbconvert_exporter": "python",
   "pygments_lexer": "ipython3",
   "version": "3.7.3"
  }
 },
 "nbformat": 4,
 "nbformat_minor": 2
}
