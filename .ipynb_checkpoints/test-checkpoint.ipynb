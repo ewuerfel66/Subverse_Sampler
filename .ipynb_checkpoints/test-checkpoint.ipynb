{
 "cells": [
  {
   "cell_type": "code",
   "execution_count": 1,
   "metadata": {},
   "outputs": [],
   "source": [
    "# Imports\n",
    "import re\n",
    "\n",
    "from urllib.error import HTTPError\n",
    "from urllib.error import URLError\n",
    "from urllib.request import urlopen, Request\n",
    "from bs4 import BeautifulSoup\n",
    "\n",
    "from datetime import datetime\n",
    "import psycopg2\n",
    "import pandas as pd\n",
    "\n",
    "# Local Imports\n",
    "import sections\n",
    "import scrapers\n",
    "from sources import Source"
   ]
  },
  {
   "cell_type": "code",
   "execution_count": 6,
   "metadata": {},
   "outputs": [],
   "source": [
    "def fed(fed_Sections, fed_ArticleURLs):\n",
    "    headers = {'User-Agent': 'Mozilla/5.0'}\n",
    "    \n",
    "    for SectionURL in fed_Sections:\n",
    "        try:\n",
    "            req = Request(url=SectionURL, headers=headers)\n",
    "            html = urlopen(req).read()\n",
    "            soup = BeautifulSoup(html, 'html.parser')\n",
    "            for link in soup.find_all('a', href=re.compile('^(https://thefederalist.com/[0-9]+/[0-9]+/[0-9]+/)')):\n",
    "                if 'href' in link.attrs:\n",
    "                    if link.attrs['href'] not in fed_ArticleURLs:\n",
    "                        newPage = link.attrs['href']\n",
    "                        # print(newPage)\n",
    "                        fed_ArticleURLs.append(newPage)\n",
    "        except HTTPError as e:\n",
    "            print(e)\n",
    "        except URLError as e:\n",
    "            print(e)"
   ]
  },
  {
   "cell_type": "code",
   "execution_count": 7,
   "metadata": {},
   "outputs": [
    {
     "name": "stdout",
     "output_type": "stream",
     "text": [
      "https://thefederalist.com/2019/12/30/bernie-has-always-had-a-path-to-victory-the-media-missed-it-again/\n",
      "https://thefederalist.com/2019/12/30/new-study-suggests-playing-with-dolls-proves-a-boy-is-transgender/\n",
      "https://thefederalist.com/2019/12/30/the-best-country-songs-of-the-2010s/\n",
      "https://thefederalist.com/2019/12/28/she-was-always-looking-up-bre-payton-lived-in-light-of-eternity/\n",
      "https://thefederalist.com/2019/12/27/theres-no-such-thing-as-free-trade-with-china-as-long-as-it-cheats/\n",
      "https://thefederalist.com/2019/12/27/the-4-best-manly-all-american-movies-of-2019/\n",
      "https://thefederalist.com/2019/12/27/in-blue-moon-jack-reacher-is-back/\n",
      "https://thefederalist.com/2019/12/26/if-the-fbis-contempt-for-the-law-is-not-reined-in-its-abuses-will-get-worse/\n",
      "https://thefederalist.com/2019/12/26/the-top-viral-moments-of-the-2010s/\n",
      "https://thefederalist.com/2019/12/29/we-can-no-longer-ignore-the-attacks-on-jews-in-new-york/\n",
      "https://thefederalist.com/2017/11/15/biden-hero-stopped-texas-church-shooter-wrong-gun/\n",
      "https://thefederalist.com/2019/12/30/alexandria-ocasio-cortez-we-do-not-live-in-an-advanced-society/\n",
      "https://thefederalist.com/2019/12/30/irs-goes-after-hunter-biden-for-over-112000-in-unpaid-taxes/\n",
      "https://thefederalist.com/2019/12/30/joe-biden-attacked-texas-concealed-carry-law-that-prevented-a-massacre-sunday/\n",
      "https://thefederalist.com/2019/12/30/the-12-biggest-hollywood-losers-in-2019/\n",
      "https://thefederalist.com/2019/12/30/no-pete-buttigieg-jesus-wasnt-a-refugee-and-he-doesnt-endorse-your-immigration-policies/\n",
      "https://thefederalist.com/2019/12/30/chuck-todd-still-cluelessly-pretending-steele-dossier-is-reliable/\n",
      "https://thefederalist.com/2019/12/30/the-sound-inside-on-broadway-is-a-pretentious-depressing-bore/\n",
      "https://thefederalist.com/2019/12/30/from-dip-nails-to-smokey-eyes-here-are-the-9-best-beauty-trends-of-the-decade/\n",
      "https://thefederalist.com/2019/12/29/identity-politics-enables-anti-semitic-violence-enough/\n",
      "https://thefederalist.com/2019/12/27/whos-up-for-a-roaring-20s/\n",
      "https://thefederalist.com/2019/12/27/mike-bloomberg-forced-to-apologize-after-report-uncovers-prisoners-making-campaign-calls/\n",
      "https://thefederalist.com/2019/12/27/how-an-unlimited-supply-of-borrowed-cash-is-destroying-higher-education/\n",
      "https://thefederalist.com/2019/12/27/buttigiegs-health-care-plan-would-reinstate-the-individual-mandate-at-10-times-the-cost/\n",
      "https://thefederalist.com/2019/05/10/skyrocketing-attacks-nyc-jews-ignored-race/\n",
      "https://thefederalist.com/2019/12/26/dont-assume-because-a-college-is-christian-its-a-safe-place-for-your-kid/\n"
     ]
    }
   ],
   "source": [
    "fed_ArticleURLs = []\n",
    "\n",
    "fed(sections.fed, fed_ArticleURLs)"
   ]
  },
  {
   "cell_type": "code",
   "execution_count": null,
   "metadata": {},
   "outputs": [],
   "source": []
  }
 ],
 "metadata": {
  "kernelspec": {
   "display_name": "Python 3",
   "language": "python",
   "name": "python3"
  },
  "language_info": {
   "codemirror_mode": {
    "name": "ipython",
    "version": 3
   },
   "file_extension": ".py",
   "mimetype": "text/x-python",
   "name": "python",
   "nbconvert_exporter": "python",
   "pygments_lexer": "ipython3",
   "version": "3.7.3"
  }
 },
 "nbformat": 4,
 "nbformat_minor": 2
}
