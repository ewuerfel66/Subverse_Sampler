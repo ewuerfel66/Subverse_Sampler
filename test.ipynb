{
 "cells": [
  {
   "cell_type": "code",
   "execution_count": 1,
   "metadata": {},
   "outputs": [],
   "source": [
    "# Imports\n",
    "import re\n",
    "\n",
    "from urllib.error import HTTPError\n",
    "from urllib.error import URLError\n",
    "from urllib.request import urlopen, Request\n",
    "from bs4 import BeautifulSoup\n",
    "\n",
    "from datetime import datetime\n",
    "import psycopg2\n",
    "import pandas as pd\n",
    "\n",
    "# Local Imports\n",
    "import sections\n",
    "import scrapers\n",
    "from sources import Source"
   ]
  },
  {
   "cell_type": "code",
   "execution_count": 6,
   "metadata": {},
   "outputs": [
    {
     "name": "stdout",
     "output_type": "stream",
     "text": [
      "https://www.bloomberg.com/feedback\n",
      "https://www.bloomberg.com/notices/tos\n",
      "https://www.bloomberg.com/notices/tos\n",
      "https://www.bloomberg.com/feedback\n",
      "https://www.bloomberg.com/feedback\n",
      "https://www.bloomberg.com/notices/tos\n",
      "https://www.bloomberg.com/notices/tos\n",
      "https://www.bloomberg.com/feedback\n",
      "https://www.bloomberg.com/feedback\n",
      "https://www.bloomberg.com/notices/tos\n",
      "https://www.bloomberg.com/notices/tos\n",
      "https://www.bloomberg.com/feedback\n",
      "https://www.bloomberg.com/feedback\n",
      "https://www.bloomberg.com/notices/tos\n",
      "https://www.bloomberg.com/notices/tos\n",
      "https://www.bloomberg.com/feedback\n",
      "https://www.bloomberg.com/feedback\n",
      "https://www.bloomberg.com/notices/tos\n",
      "https://www.bloomberg.com/notices/tos\n",
      "https://www.bloomberg.com/feedback\n"
     ]
    }
   ],
   "source": [
    "bloom_ArticleURLs = []\n",
    "\n",
    "for SectionURL in sections.bloom:\n",
    "    try:\n",
    "        html = urlopen(SectionURL)\n",
    "        soup = BeautifulSoup(html, 'html.parser')\n",
    "        for link in soup.find_all('a'):\n",
    "            if 'href' in link.attrs:\n",
    "                if link.attrs['href'] not in bloom_ArticleURLs:\n",
    "                    newPage = \"https://www.bloomberg.com\" + str(link.attrs['href'])\n",
    "                    print(newPage)\n",
    "                    bloom_ArticleURLs.append(newPage)\n",
    "    except HTTPError as e:\n",
    "        print(e)\n",
    "    except URLError as e:\n",
    "        print(e)"
   ]
  },
  {
   "cell_type": "code",
   "execution_count": null,
   "metadata": {},
   "outputs": [],
   "source": []
  }
 ],
 "metadata": {
  "kernelspec": {
   "display_name": "Python 3",
   "language": "python",
   "name": "python3"
  },
  "language_info": {
   "codemirror_mode": {
    "name": "ipython",
    "version": 3
   },
   "file_extension": ".py",
   "mimetype": "text/x-python",
   "name": "python",
   "nbconvert_exporter": "python",
   "pygments_lexer": "ipython3",
   "version": "3.7.3"
  }
 },
 "nbformat": 4,
 "nbformat_minor": 2
}
