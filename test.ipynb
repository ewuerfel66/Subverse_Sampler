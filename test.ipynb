{
 "cells": [
  {
   "cell_type": "code",
   "execution_count": 1,
   "metadata": {},
   "outputs": [],
   "source": [
    "# Imports\n",
    "import re\n",
    "\n",
    "from urllib.error import HTTPError\n",
    "from urllib.error import URLError\n",
    "from urllib.request import urlopen, Request\n",
    "from bs4 import BeautifulSoup\n",
    "\n",
    "from datetime import datetime\n",
    "import psycopg2\n",
    "import pandas as pd\n",
    "\n",
    "# Local Imports\n",
    "import sections\n",
    "import scrapers\n",
    "from sources import Source"
   ]
  },
  {
   "cell_type": "code",
   "execution_count": 2,
   "metadata": {},
   "outputs": [],
   "source": [
    "def dailyWire(dailyWire_Sections, dailyWire_ArticleURLs):\n",
    "    # enter browser credentials\n",
    "    headers = {'User-Agent': 'Mozilla/5.0 (Macintosh; U; Intel Mac OS X 10.10; rv:62.0) Gecko/20100101 Firefox/62.0'}\n",
    "    reg_url = 'https://www.dailywire.com/'\n",
    "    req = Request(url=reg_url, headers=headers) \n",
    "    html = urlopen(req).read()\n",
    "\n",
    "    try:\n",
    "        # Initialize soup and article urls\n",
    "        soup = BeautifulSoup(html, 'html.parser')\n",
    "        dailyWire_EndArticleURLs = []\n",
    "\n",
    "        # Scrape front page\n",
    "        for link in soup.find_all('a', href=re.compile('^(/news/)')):\n",
    "            if 'href' in link.attrs:\n",
    "                if link.attrs['href'] not in dailyWire_EndArticleURLs:\n",
    "                    print(link.attrs['href'])\n",
    "                    dailyWire_EndArticleURLs.append(link.attrs['href'])\n",
    "                    \n",
    "        # add prefix\n",
    "        for ArticleURL in dailyWire_EndArticleURLs:\n",
    "            FullArticleURL = 'https://www.dailywire.com'+ArticleURL\n",
    "            dailyWire_ArticleURLs.append(FullArticleURL)\n",
    "    except HTTPError as e:\n",
    "        print(e)\n",
    "    except URLError as e:\n",
    "        print(e)"
   ]
  },
  {
   "cell_type": "code",
   "execution_count": 3,
   "metadata": {},
   "outputs": [
    {
     "name": "stdout",
     "output_type": "stream",
     "text": [
      "/news/trump-iran-behind-attack-on-u-s-embassy-in-baghdad-will-pay\n",
      "/news/trump-democrats-avoiding-senate-trial-to-protect-bidens\n",
      "/news/linda-ronstadt-compares-trump-to-hitler-says-mexicans-are-the-new-jews\n",
      "/news/bernie-sanders-railed-against-amazon-but-his-campaign-kept-ordering-products-from-online-mega-retailer\n",
      "/news/trump-if-texas-didnt-allow-churchgoers-to-carry-more-would-have-died\n",
      "/news/close-one-corey-lewandowski-says-he-wont-run-for-senate\n",
      "/news/who-will-win-democratic-primary-latest-2020-josh-hammer\n",
      "/news/kanye-celebrates-one-year-anniversary-of-sunday-service-at-homeless-shelter\n"
     ]
    }
   ],
   "source": [
    "dailyWire_ArticleURLs = []\n",
    "\n",
    "dailyWire(sections.dailyWire, dailyWire_ArticleURLs)"
   ]
  },
  {
   "cell_type": "code",
   "execution_count": null,
   "metadata": {},
   "outputs": [],
   "source": []
  }
 ],
 "metadata": {
  "kernelspec": {
   "display_name": "Python 3",
   "language": "python",
   "name": "python3"
  },
  "language_info": {
   "codemirror_mode": {
    "name": "ipython",
    "version": 3
   },
   "file_extension": ".py",
   "mimetype": "text/x-python",
   "name": "python",
   "nbconvert_exporter": "python",
   "pygments_lexer": "ipython3",
   "version": "3.7.3"
  }
 },
 "nbformat": 4,
 "nbformat_minor": 2
}
