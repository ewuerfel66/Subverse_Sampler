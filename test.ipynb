{
 "cells": [
  {
   "cell_type": "code",
   "execution_count": 1,
   "metadata": {},
   "outputs": [],
   "source": [
    "# Imports\n",
    "import pandas as pd\n",
    "\n",
    "import re\n",
    "\n",
    "from urllib.error import HTTPError\n",
    "from urllib.error import URLError\n",
    "from urllib.request import urlopen, Request\n",
    "from bs4 import BeautifulSoup"
   ]
  },
  {
   "cell_type": "code",
   "execution_count": 35,
   "metadata": {},
   "outputs": [],
   "source": [
    "# Reason\n",
    "def reason(reason_Sections, reason_ArticleURLs):\n",
    "    for SectionURL in reason_Sections:\n",
    "        try:\n",
    "            html = urlopen(SectionURL)\n",
    "            soup = BeautifulSoup(html, 'html.parser')\n",
    "        \n",
    "            for link in soup.find_all('a', href=re.compile('^(https://reason.com/[0-9]+)')):\n",
    "                if 'href' in link.attrs:\n",
    "                    if link.attrs['href'] not in reason_ArticleURLs:\n",
    "                        newPage = link.attrs['href']\n",
    "                        # print(newPage)\n",
    "                        reason_ArticleURLs.append(newPage)\n",
    "        except HTTPError as e:\n",
    "            print(e)\n",
    "        except URLError as e:\n",
    "            print(e)"
   ]
  },
  {
   "cell_type": "code",
   "execution_count": 36,
   "metadata": {},
   "outputs": [],
   "source": [
    "import sections\n",
    "reason_ArticleURLs = []"
   ]
  },
  {
   "cell_type": "code",
   "execution_count": 37,
   "metadata": {},
   "outputs": [
    {
     "name": "stdout",
     "output_type": "stream",
     "text": [
      "https://reason.com/2019/12/11/americas-forgotten-debt/\n",
      "https://reason.com/2019/10/25/federal-deficit-hit-984-billion-last-year-a-nearly-50-percent-increase-since-trump-took-office/\n",
      "https://reason.com/2019/07/25/the-house-just-passed-a-budget-deal-that-will-add-1-7-trillion-to-the-national-debt/\n",
      "https://reason.com/2019/12/11/trumps-lawyers-deny-reality/\n",
      "https://reason.com/2019/12/10/impeachment-and-the-spending-power-revisited/\n",
      "https://reason.com/2019/12/10/impeachment-for-corrupt-schemes-a-response-to-josh-blackman/\n",
      "https://reason.com/2019/12/10/the-fbi-will-be-audited-to-see-how-frequently-they-screw-up-other-fisa-warrants/\n",
      "https://reason.com/2019/12/09/ig-report-fbi-fisa-carter-page-trump-media/\n",
      "https://reason.com/2019/12/10/university-of-new-mexico-professor-student-emails-title-ix-harassment/\n",
      "https://reason.com/2019/12/11/thank-you-to-every-single-person-who-donated-to-webathon/\n",
      "https://reason.com/2019/12/10/3-winners-and-3-losers-from-todays-north-america-trade-deal-announcement/\n",
      "https://reason.com/2019/12/10/exxonmobil-did-not-mislead-shareholders-about-climate-risks-rules-new-york-court/\n",
      "https://reason.com/2019/12/09/what-do-we-owe-to-people-whose-countries-we-have-broken/\n",
      "https://reason.com/2019/12/10/iraqi-protests-are-yet-another-reason-to-end-u-s-intervention/\n",
      "https://reason.com/2019/12/07/socialism-killed-my-father/\n",
      "https://reason.com/2019/12/11/the-decade-populism-went-mainstream/\n",
      "https://reason.com/2019/12/11/trump-to-declare-judaism-a-nationality-and-everyone-is-confused/\n",
      "https://reason.com/2019/12/11/brickbat-outdoor-education/\n",
      "https://reason.com/2019/12/10/san-francisco-ballot-measure-would-tax-empty-storefronts-in-attempt-to-boost-retail-sector/\n",
      "https://reason.com/2019/12/10/high-school-cancels-tarzan-racist/\n",
      "https://reason.com/2019/12/10/house-reveals-articles-of-impeachment-against-trump-abuse-of-power-and-obstruction-of-congress/\n",
      "https://reason.com/2019/12/09/5-myths-that-anti-porn-crusaders-keep-repeating/?itm_source=parsely-api\n",
      "https://reason.com/2019/12/09/ig-report-fbi-fisa-carter-page-trump-media/?itm_source=parsely-api\n",
      "https://reason.com/2019/12/10/university-of-new-mexico-professor-student-emails-title-ix-harassment/?itm_source=parsely-api\n",
      "https://reason.com/2019/12/07/did-burger-king-tell-a-whopper-about-its-meatless-burger/?itm_source=parsely-api\n",
      "https://reason.com/2019/12/09/the-government-has-been-lying-about-afghanistan-all-along/?itm_source=parsely-api\n",
      "https://reason.com/2019/12/10/on-the-last-day-of-reasons-annual-webathon-donate-to-join-our-awesome-crew-of-supporters-and-friends/\n",
      "https://reason.com/2019/12/10/brickbat-mama-tried/\n",
      "https://reason.com/2019/12/09/intelligence-committee-lawyers-went-toe-to-toe-in-latest-impeachment-hearing/\n",
      "https://reason.com/2019/12/09/this-week-is-a-crucial-final-exam-capping-the-second-year-of-trumps-trade-wars/\n",
      "https://reason.com/2019/12/09/report-says-fbi-snooping-on-trump-campaign-aide-was-justified-but-badly-mishandled/\n",
      "https://reason.com/2019/12/09/should-public-buses-be-free-to-riders/\n",
      "https://reason.com/2019/12/09/5-myths-that-anti-porn-crusaders-keep-repeating/\n",
      "https://reason.com/2019/12/09/handwritten-notes-document-the-collapse-of-the-phony-story-that-led-to-a-deadly-houston-drug-raid/\n",
      "https://reason.com/2019/12/09/a-texas-deputy-is-in-jail-for-conducting-unlawful-strip-searches-on-women/\n",
      "https://reason.com/2019/12/09/the-government-has-been-lying-about-afghanistan-all-along/\n",
      "https://reason.com/2019/12/09/while-opinion-magazines-die-or-transmorgify-your-donations-keep-reason-libertarian/\n",
      "https://reason.com/2019/12/09/brickbat-drink-up-3/\n",
      "https://reason.com/2019/12/08/support-reason-so-we-can-keep-bringing-you-the-future-of-journalism/\n",
      "https://reason.com/2019/12/08/hongkongers-are-fighting-to-keep-what-they-have/\n",
      "https://reason.com/2019/12/07/did-burger-king-tell-a-whopper-about-its-meatless-burger/\n",
      "https://reason.com/2019/12/07/help-reason-help-people-who-get-screwed-over-by-the-criminal-justice-system/\n",
      "https://reason.com/2019/12/06/michael-bloomberg-and-the-imperious-presidency/\n",
      "https://reason.com/2019/12/06/elizabeth-warren-would-rather-make-you-fix-your-terrible-public-school-than-let-you-send-your-kid-to-a-charter-school/\n",
      "https://reason.com/2019/12/06/michael-bloomberg-plays-dumb-about-all-the-criticism-of-his-stop-and-frisk-support/\n",
      "https://reason.com/2019/12/05/moderate-joe-biden-wants-tax-hikes-twice-as-big-as-hillary-clinton-proposed-in-2016/\n",
      "https://reason.com/2019/12/06/the-l-word-returns-with-an-unwelcome-new-obsession-with-identity-politics/\n",
      "https://reason.com/2019/12/06/chinese-researchers-are-trying-to-edit-pigs-genes-to-resist-disease/\n",
      "https://reason.com/2019/12/06/although-teenagers-are-80-less-likely-to-smoke-than-they-were-in-1999-the-cdc-insists-no-progress-has-been-made/\n",
      "https://reason.com/2019/12/06/lawsuit-alleges-rampant-sexual-abuse-at-federal-prison/\n",
      "https://reason.com/2019/12/06/no-trumps-food-stamp-plan-wouldnt-have-cut-off-aocs-family/\n",
      "https://reason.com/2019/12/06/new-jersey-bill-would-crack-down-on-both-plastic-and-paper-bags/\n",
      "https://reason.com/2019/12/06/prison-guards-forced-an-8-year-old-girl-to-strip-before-she-could-visit-her-father/\n",
      "https://reason.com/2019/12/06/bill-would-roll-back-prohibition-era-gun-rules/\n",
      "https://reason.com/2019/12/11/the-decade-populism-went-mainstream/?itm_source=parsely-api\n",
      "https://reason.com/2019/12/11/trump-to-declare-judaism-a-nationality-and-everyone-is-confused/?itm_source=parsely-api\n",
      "https://reason.com/2019/12/11/amnesty-international-canada-questions-freedom-of-speech-and-assembly/?itm_source=parsely-api\n",
      "https://reason.com/2019/12/11/thank-you-to-every-single-person-who-donated-to-webathon/?itm_source=parsely-api\n",
      "https://reason.com/2019/12/11/today-in-supreme-court-history-december-11-1922/?itm_source=parsely-api\n"
     ]
    }
   ],
   "source": [
    "reason(sections.reason, reason_ArticleURLs)"
   ]
  },
  {
   "cell_type": "code",
   "execution_count": null,
   "metadata": {},
   "outputs": [],
   "source": []
  }
 ],
 "metadata": {
  "kernelspec": {
   "display_name": "Python 3",
   "language": "python",
   "name": "python3"
  },
  "language_info": {
   "codemirror_mode": {
    "name": "ipython",
    "version": 3
   },
   "file_extension": ".py",
   "mimetype": "text/x-python",
   "name": "python",
   "nbconvert_exporter": "python",
   "pygments_lexer": "ipython3",
   "version": "3.7.3"
  }
 },
 "nbformat": 4,
 "nbformat_minor": 2
}
