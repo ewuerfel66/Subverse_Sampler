{
 "cells": [
  {
   "cell_type": "code",
   "execution_count": 2,
   "metadata": {},
   "outputs": [],
   "source": [
    "import psycopg2"
   ]
  },
  {
   "cell_type": "code",
   "execution_count": 31,
   "metadata": {},
   "outputs": [
    {
     "name": "stdout",
     "output_type": "stream",
     "text": [
      "\n",
      "-----------------------------\n",
      "--- Subverse News Sampler ---\n",
      "-----------------------------\n",
      "\n",
      "Connecting to DataBase...\n",
      "Pulling old data...\n",
      "--- National Review\n"
     ]
    }
   ],
   "source": [
    "print(\"\")\n",
    "print(\"-----------------------------\")\n",
    "print(\"--- Subverse News Sampler ---\")\n",
    "print(\"-----------------------------\")\n",
    "print(\"\")\n",
    "\n",
    "####################################################\n",
    "################### Imports ########################\n",
    "####################################################\n",
    "\n",
    "from datetime import datetime\n",
    "import psycopg2\n",
    "import pandas as pd\n",
    "\n",
    "# Local Imports\n",
    "import sections\n",
    "import scrapers\n",
    "from sources import Source\n",
    "\n",
    "\n",
    "####################################################\n",
    "#################### Sources #######################\n",
    "####################################################\n",
    "\n",
    "ap = Source(\"Associated Press\", \"ap\", sections.ap, scrapers.ap)\n",
    "breitbart = Source(\"Breitbart\", \"breitbart\", sections.breitbart, scrapers.breitbart)\n",
    "buzzfeed = Source(\"Buzzfeed News\", \"buzzfeed\", sections.buzzfeed, scrapers.buzzfeed)\n",
    "examiner = Source(\"The Washington Examiner\", \"examiner\", sections.examiner, scrapers.examiner)\n",
    "fox = Source(\"Fox News\", \"fox\", sections.fox, scrapers.fox)\n",
    "hill = Source(\"The Hill\", \"hill\", sections.hill, scrapers.hill)\n",
    "huffpo = Source(\"The Huffington Post\", \"huffpo\", sections.huffpo, scrapers.huffpo)\n",
    "msnbc = Source(\"MSNBC\", \"msnbc\", sections.msnbc, scrapers.msnbc)\n",
    "nr = Source(\"National Review\", \"nr\", sections.nr, scrapers.nr)\n",
    "nypost = Source(\"The New York Post\", \"nypost\", sections.nypost, scrapers.nypost)\n",
    "nyt = Source(\"The New York Times\", \"nyt\", sections.nyt, scrapers.nyt)\n",
    "reason = Source(\"Reason\", \"reason\", sections.reason, scrapers.reason)\n",
    "vox = Source(\"Vox\", \"vox\", sections.vox, scrapers.vox)\n",
    "wapo = Source(\"The Washington Post\", \"wapo\", sections.wapo, scrapers.wapo)\n",
    "wsj = Source(\"The Wall Street Journal\", \"wsj\", sections.wsj, scrapers.wsj)\n",
    "\n",
    "# Create source list\n",
    "sources = [nr]\n",
    "\n",
    "\n",
    "####################################################\n",
    "################## Global Vars #####################\n",
    "####################################################\n",
    "\n",
    "# Create timestamp\n",
    "day = datetime.now().day\n",
    "month = datetime.now().month\n",
    "year = datetime.now().year\n",
    "\n",
    "\n",
    "####################################################\n",
    "################# Load Old Data ####################\n",
    "####################################################\n",
    "\n",
    "print(\"Connecting to DataBase...\")\n",
    "# Credentials\n",
    "dbname = \"iuawmtcy\"\n",
    "user = \"iuawmtcy\"\n",
    "password = \"UnWCQ5-4ymEJCpY5Tly-F7ZXXONAEx7i\" # Don't commit!!!\n",
    "host = \"salt.db.elephantsql.com\"\n",
    "\n",
    "# Establish connection\n",
    "pg_conn = psycopg2.connect(dbname=dbname, user=user,\n",
    "    password=password, host=host)\n",
    "\n",
    "# Instantiate cursor\n",
    "pg_curs = pg_conn.cursor()\n",
    "\n",
    "print(\"Pulling old data...\")\n",
    "\n",
    "# Loop over sources\n",
    "for source in sources:\n",
    "    print(f\"--- {source.name}\")\n",
    "    pull_data = \"\"\"\n",
    "    SELECT article_url FROM news_test\n",
    "    WHERE source='\"\"\" + str(source.codename) + \"';\"\n",
    "    # Execute\n",
    "    pg_curs.execute(pull_data)\n",
    "    source.article_URLs = [url[0] for url in pg_curs.fetchall()]"
   ]
  },
  {
   "cell_type": "code",
   "execution_count": 32,
   "metadata": {},
   "outputs": [
    {
     "data": {
      "text/plain": [
       "['https://www.nationalreview.com/podcasts/mad-dogs-englishmen/',\n",
       " 'https://www.nationalreview.com/podcasts/give-me-liberty-the-making-of-american-exceptionalism/',\n",
       " 'https://www.nationalreview.com/podcasts/the-mccarthy-report/',\n",
       " 'https://www.nationalreview.com/podcasts/the-great-books/',\n",
       " 'https://www.nationalreview.com/podcasts/national-reviews-radio-free-california-podcast/',\n",
       " 'https://www.nationalreview.com/frequently-asked-questions/',\n",
       " 'https://www.nationalreview.com/terms-of-service/',\n",
       " 'https://www.nationalreview.com/2019/12/national-review-institute-fund-appeal-support-future-conservative-journalism/',\n",
       " 'https://www.nationalreview.com/magazine/2019/12/31/horace-greeleys-ill-fated-crusades/',\n",
       " 'https://www.nationalreview.com/2019/12/donald-trump-impeached-but-defiant/',\n",
       " 'https://www.nationalreview.com/2019/12/movie-review-star-wars-the-rise-of-skywalker-chronic-consumerism/',\n",
       " 'https://www.nationalreview.com/2019/12/counterfeit-goods-problem-effective-inspection-enforcement-required/',\n",
       " 'https://www.nationalreview.com/author/kevin-d-williamson/',\n",
       " 'https://www.nationalreview.com/2019/12/trump-impeachment-congress-indispensable-power-revisiting-faithless-execution-book/',\n",
       " 'https://www.nationalreview.com/author/andrew-c-mccarthy/',\n",
       " 'https://www.nationalreview.com/2019/12/talk-of-making-nerd-a-hate-crime-in-the-u-k-is-why-hate-speech-laws-are-a-bad-idea/',\n",
       " 'https://www.nationalreview.com/2019/12/pundits-push-worst-possible-explanation-for-innocent-cadet-hand-gesture/',\n",
       " 'https://www.nationalreview.com/magazine/2019/12/31/reading-thomas-hardys-the-darkling-thrush-at-years-end/',\n",
       " 'https://www.nationalreview.com/author/kathryn-jean-lopez/',\n",
       " 'https://www.nationalreview.com/2019/12/trump-impeachment-case-for-full-senate-trial/',\n",
       " 'https://www.nationalreview.com/2019/12/editors-podcast-senate-bound-maybe-transcript-excerpt/',\n",
       " 'https://www.nationalreview.com/corner/jonahs-trump-counter-to-my-partisan-impeachment-fret/',\n",
       " 'https://www.nationalreview.com/corner/last-days-advent-and-christmas-the-gospel-of-john/',\n",
       " 'https://www.nationalreview.com/news/michael-rogers-former-nsa-director-cooperating-with-john-durham-investigation-into-trump-russia-probe/',\n",
       " 'https://www.nationalreview.com/corner/hate-crime-laws-iowa-man-sentenced-16-years-burning-gay-pride-flag/',\n",
       " 'https://www.nationalreview.com/corner/legitimacy-chinese-and-american/',\n",
       " 'https://www.nationalreview.com/news/spox-confirms-justin-fairfax-planning-on-running-for-virginia-governor-despite-sexual-assault-allegations/',\n",
       " 'https://www.nationalreview.com/news/service-academies-find-cadets-were-playing-circle-game-and-not-making-white-power-hand-gesture-during-army-navy-game/',\n",
       " 'https://www.nationalreview.com/corner/the-politics-of-salt/',\n",
       " 'https://www.nationalreview.com/author/charles-c-w-cooke/',\n",
       " 'https://www.nationalreview.com/podcasts/the-editors/episode-182-senate-bound-maybe/',\n",
       " 'https://www.nationalreview.com/podcasts/mad-dogs-englishmen/episode-247-what-did-they-vote-on-again/',\n",
       " 'https://www.nationalreview.com/news/twitter-removes-thousands-of-accounts-linked-to-saudi-government-influence-operation/',\n",
       " 'https://www.nationalreview.com/news/missing-footage-from-epsteins-jail-cell-resurfaces-after-prosecutors-claimed-it-no-longer-exists/',\n",
       " 'https://www.nationalreview.com/news/u-s-diplomats-wife-charged-with-causing-death-of-u-k-teenager-by-driving-dangerously/',\n",
       " 'https://www.nationalreview.com/news/british-parliament-approves-boris-johnsons-brexit-plan/',\n",
       " 'https://www.nationalreview.com/news/hawley-calls-for-major-reform-to-the-fisa-process-following-russia-probe-abuses-we-cannot-allow-this-to-keep-happening/',\n",
       " 'https://www.nationalreview.com/news/new-jersey-governor-signs-bill-allowing-illegal-immigrants-to-get-drivers-licenses/',\n",
       " 'https://www.nationalreview.com/news/suspected-killer-of-french-jewish-woman-wont-stand-trial-because-he-was-in-psychotic-state-due-to-marijuana-use-court-rules/',\n",
       " 'https://www.nationalreview.com/podcasts/mad-dogs-englishmen/',\n",
       " 'https://www.nationalreview.com/podcasts/give-me-liberty-the-making-of-american-exceptionalism/',\n",
       " 'https://www.nationalreview.com/podcasts/the-mccarthy-report/',\n",
       " 'https://www.nationalreview.com/podcasts/the-great-books/',\n",
       " 'https://www.nationalreview.com/podcasts/national-reviews-radio-free-california-podcast/',\n",
       " 'https://www.nationalreview.com/frequently-asked-questions/',\n",
       " 'https://www.nationalreview.com/terms-of-service/',\n",
       " 'https://www.nationalreview.com/2019/12/national-review-institute-fund-appeal-support-future-conservative-journalism/',\n",
       " 'https://www.nationalreview.com/magazine/2019/12/31/horace-greeleys-ill-fated-crusades/',\n",
       " 'https://www.nationalreview.com/2019/12/donald-trump-impeached-but-defiant/',\n",
       " 'https://www.nationalreview.com/2019/12/movie-review-star-wars-the-rise-of-skywalker-chronic-consumerism/',\n",
       " 'https://www.nationalreview.com/2019/12/counterfeit-goods-problem-effective-inspection-enforcement-required/',\n",
       " 'https://www.nationalreview.com/author/kevin-d-williamson/',\n",
       " 'https://www.nationalreview.com/2019/12/trump-impeachment-congress-indispensable-power-revisiting-faithless-execution-book/',\n",
       " 'https://www.nationalreview.com/author/andrew-c-mccarthy/',\n",
       " 'https://www.nationalreview.com/2019/12/talk-of-making-nerd-a-hate-crime-in-the-u-k-is-why-hate-speech-laws-are-a-bad-idea/',\n",
       " 'https://www.nationalreview.com/2019/12/pundits-push-worst-possible-explanation-for-innocent-cadet-hand-gesture/',\n",
       " 'https://www.nationalreview.com/magazine/2019/12/31/reading-thomas-hardys-the-darkling-thrush-at-years-end/',\n",
       " 'https://www.nationalreview.com/author/kathryn-jean-lopez/',\n",
       " 'https://www.nationalreview.com/2019/12/trump-impeachment-case-for-full-senate-trial/',\n",
       " 'https://www.nationalreview.com/2019/12/editors-podcast-senate-bound-maybe-transcript-excerpt/',\n",
       " 'https://www.nationalreview.com/corner/jonahs-trump-counter-to-my-partisan-impeachment-fret/',\n",
       " 'https://www.nationalreview.com/corner/last-days-advent-and-christmas-the-gospel-of-john/',\n",
       " 'https://www.nationalreview.com/news/michael-rogers-former-nsa-director-cooperating-with-john-durham-investigation-into-trump-russia-probe/',\n",
       " 'https://www.nationalreview.com/corner/hate-crime-laws-iowa-man-sentenced-16-years-burning-gay-pride-flag/',\n",
       " 'https://www.nationalreview.com/corner/legitimacy-chinese-and-american/',\n",
       " 'https://www.nationalreview.com/news/spox-confirms-justin-fairfax-planning-on-running-for-virginia-governor-despite-sexual-assault-allegations/',\n",
       " 'https://www.nationalreview.com/news/service-academies-find-cadets-were-playing-circle-game-and-not-making-white-power-hand-gesture-during-army-navy-game/',\n",
       " 'https://www.nationalreview.com/corner/the-politics-of-salt/',\n",
       " 'https://www.nationalreview.com/author/charles-c-w-cooke/',\n",
       " 'https://www.nationalreview.com/podcasts/the-editors/episode-182-senate-bound-maybe/',\n",
       " 'https://www.nationalreview.com/podcasts/mad-dogs-englishmen/episode-247-what-did-they-vote-on-again/',\n",
       " 'https://www.nationalreview.com/news/twitter-removes-thousands-of-accounts-linked-to-saudi-government-influence-operation/',\n",
       " 'https://www.nationalreview.com/news/missing-footage-from-epsteins-jail-cell-resurfaces-after-prosecutors-claimed-it-no-longer-exists/',\n",
       " 'https://www.nationalreview.com/news/u-s-diplomats-wife-charged-with-causing-death-of-u-k-teenager-by-driving-dangerously/',\n",
       " 'https://www.nationalreview.com/news/british-parliament-approves-boris-johnsons-brexit-plan/',\n",
       " 'https://www.nationalreview.com/news/hawley-calls-for-major-reform-to-the-fisa-process-following-russia-probe-abuses-we-cannot-allow-this-to-keep-happening/',\n",
       " 'https://www.nationalreview.com/news/new-jersey-governor-signs-bill-allowing-illegal-immigrants-to-get-drivers-licenses/',\n",
       " 'https://www.nationalreview.com/news/suspected-killer-of-french-jewish-woman-wont-stand-trial-because-he-was-in-psychotic-state-due-to-marijuana-use-court-rules/',\n",
       " 'https://www.nationalreview.com/podcasts/mad-dogs-englishmen/',\n",
       " 'https://www.nationalreview.com/podcasts/give-me-liberty-the-making-of-american-exceptionalism/',\n",
       " 'https://www.nationalreview.com/podcasts/the-mccarthy-report/',\n",
       " 'https://www.nationalreview.com/podcasts/the-great-books/',\n",
       " 'https://www.nationalreview.com/podcasts/national-reviews-radio-free-california-podcast/',\n",
       " 'https://www.nationalreview.com/frequently-asked-questions/',\n",
       " 'https://www.nationalreview.com/terms-of-service/',\n",
       " 'https://www.nationalreview.com/2019/12/national-review-institute-fund-appeal-support-future-conservative-journalism/',\n",
       " 'https://www.nationalreview.com/magazine/2019/12/31/horace-greeleys-ill-fated-crusades/',\n",
       " 'https://www.nationalreview.com/2019/12/donald-trump-impeached-but-defiant/',\n",
       " 'https://www.nationalreview.com/2019/12/movie-review-star-wars-the-rise-of-skywalker-chronic-consumerism/',\n",
       " 'https://www.nationalreview.com/2019/12/counterfeit-goods-problem-effective-inspection-enforcement-required/',\n",
       " 'https://www.nationalreview.com/author/kevin-d-williamson/',\n",
       " 'https://www.nationalreview.com/2019/12/trump-impeachment-congress-indispensable-power-revisiting-faithless-execution-book/',\n",
       " 'https://www.nationalreview.com/author/andrew-c-mccarthy/',\n",
       " 'https://www.nationalreview.com/2019/12/talk-of-making-nerd-a-hate-crime-in-the-u-k-is-why-hate-speech-laws-are-a-bad-idea/',\n",
       " 'https://www.nationalreview.com/2019/12/pundits-push-worst-possible-explanation-for-innocent-cadet-hand-gesture/',\n",
       " 'https://www.nationalreview.com/magazine/2019/12/31/reading-thomas-hardys-the-darkling-thrush-at-years-end/',\n",
       " 'https://www.nationalreview.com/author/kathryn-jean-lopez/',\n",
       " 'https://www.nationalreview.com/2019/12/trump-impeachment-case-for-full-senate-trial/',\n",
       " 'https://www.nationalreview.com/2019/12/editors-podcast-senate-bound-maybe-transcript-excerpt/',\n",
       " 'https://www.nationalreview.com/corner/jonahs-trump-counter-to-my-partisan-impeachment-fret/',\n",
       " 'https://www.nationalreview.com/corner/last-days-advent-and-christmas-the-gospel-of-john/',\n",
       " 'https://www.nationalreview.com/news/michael-rogers-former-nsa-director-cooperating-with-john-durham-investigation-into-trump-russia-probe/',\n",
       " 'https://www.nationalreview.com/corner/hate-crime-laws-iowa-man-sentenced-16-years-burning-gay-pride-flag/',\n",
       " 'https://www.nationalreview.com/corner/legitimacy-chinese-and-american/',\n",
       " 'https://www.nationalreview.com/news/spox-confirms-justin-fairfax-planning-on-running-for-virginia-governor-despite-sexual-assault-allegations/',\n",
       " 'https://www.nationalreview.com/news/service-academies-find-cadets-were-playing-circle-game-and-not-making-white-power-hand-gesture-during-army-navy-game/',\n",
       " 'https://www.nationalreview.com/corner/the-politics-of-salt/',\n",
       " 'https://www.nationalreview.com/author/charles-c-w-cooke/',\n",
       " 'https://www.nationalreview.com/podcasts/the-editors/episode-182-senate-bound-maybe/',\n",
       " 'https://www.nationalreview.com/podcasts/mad-dogs-englishmen/episode-247-what-did-they-vote-on-again/',\n",
       " 'https://www.nationalreview.com/news/twitter-removes-thousands-of-accounts-linked-to-saudi-government-influence-operation/',\n",
       " 'https://www.nationalreview.com/news/missing-footage-from-epsteins-jail-cell-resurfaces-after-prosecutors-claimed-it-no-longer-exists/',\n",
       " 'https://www.nationalreview.com/news/u-s-diplomats-wife-charged-with-causing-death-of-u-k-teenager-by-driving-dangerously/',\n",
       " 'https://www.nationalreview.com/news/british-parliament-approves-boris-johnsons-brexit-plan/',\n",
       " 'https://www.nationalreview.com/news/hawley-calls-for-major-reform-to-the-fisa-process-following-russia-probe-abuses-we-cannot-allow-this-to-keep-happening/',\n",
       " 'https://www.nationalreview.com/news/new-jersey-governor-signs-bill-allowing-illegal-immigrants-to-get-drivers-licenses/',\n",
       " 'https://www.nationalreview.com/news/suspected-killer-of-french-jewish-woman-wont-stand-trial-because-he-was-in-psychotic-state-due-to-marijuana-use-court-rules/']"
      ]
     },
     "execution_count": 32,
     "metadata": {},
     "output_type": "execute_result"
    }
   ],
   "source": [
    "nr.article_URLs"
   ]
  },
  {
   "cell_type": "code",
   "execution_count": 25,
   "metadata": {},
   "outputs": [],
   "source": [
    "pg_curs.execute(\"\"\"SELECT article_url FROM news_test WHERE source='nr';\"\"\")"
   ]
  },
  {
   "cell_type": "code",
   "execution_count": 26,
   "metadata": {},
   "outputs": [
    {
     "data": {
      "text/plain": [
       "117"
      ]
     },
     "execution_count": 26,
     "metadata": {},
     "output_type": "execute_result"
    }
   ],
   "source": [
    "article_URLs = [url[0][0] for url in pg_curs.fetchall()]\n",
    "len(article_URLs)"
   ]
  },
  {
   "cell_type": "code",
   "execution_count": 2,
   "metadata": {},
   "outputs": [],
   "source": [
    "fresh_articleURLs = []\n",
    "nr.scraper(nr.sections, fresh_articleURLs)\n",
    "new_articleURLs = [x for x in fresh_articleURLs if x not in nr.article_URLs]"
   ]
  },
  {
   "cell_type": "code",
   "execution_count": 4,
   "metadata": {},
   "outputs": [
    {
     "data": {
      "text/plain": [
       "39"
      ]
     },
     "execution_count": 4,
     "metadata": {},
     "output_type": "execute_result"
    }
   ],
   "source": [
    "len(new_articleURLs)"
   ]
  },
  {
   "cell_type": "code",
   "execution_count": 8,
   "metadata": {},
   "outputs": [
    {
     "data": {
      "text/plain": [
       "[]"
      ]
     },
     "execution_count": 8,
     "metadata": {},
     "output_type": "execute_result"
    }
   ],
   "source": [
    "nr.article_URLs"
   ]
  },
  {
   "cell_type": "code",
   "execution_count": null,
   "metadata": {},
   "outputs": [],
   "source": []
  }
 ],
 "metadata": {
  "kernelspec": {
   "display_name": "Python 3",
   "language": "python",
   "name": "python3"
  },
  "language_info": {
   "codemirror_mode": {
    "name": "ipython",
    "version": 3
   },
   "file_extension": ".py",
   "mimetype": "text/x-python",
   "name": "python",
   "nbconvert_exporter": "python",
   "pygments_lexer": "ipython3",
   "version": "3.7.3"
  }
 },
 "nbformat": 4,
 "nbformat_minor": 2
}
